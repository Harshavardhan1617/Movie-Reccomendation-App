{
 "cells": [
  {
   "cell_type": "code",
   "execution_count": 1,
   "id": "00ff16ec",
   "metadata": {},
   "outputs": [],
   "source": [
    "import pandas as pd\n",
    "import numpy as np\n",
    "import scipy as sc\n",
    "\n",
    "import matplotlib.pyplot as plt\n",
    "import seaborn as sns\n",
    "\n",
    "plt.style.use('fivethirtyeight')\n",
    "pd.set_option('display.max_rows', 100)\n",
    "pd.set_option('display.max_columns', 100)"
   ]
  },
  {
   "cell_type": "code",
   "execution_count": 2,
   "id": "e7ddc01b",
   "metadata": {},
   "outputs": [
    {
     "name": "stdout",
     "output_type": "stream",
     "text": [
      "E:\\Movie-Reccomendation-App\\data\n"
     ]
    }
   ],
   "source": [
    "cd data "
   ]
  },
  {
   "cell_type": "code",
   "execution_count": 3,
   "id": "bf8bf8f0",
   "metadata": {},
   "outputs": [
    {
     "name": "stdout",
     "output_type": "stream",
     "text": [
      " Volume in drive E is projects\n",
      " Volume Serial Number is 7261-B979\n",
      "\n",
      " Directory of E:\\Movie-Reccomendation-App\\data\n",
      "\n",
      "10-01-2023  17:09    <DIR>          .\n",
      "10-01-2023  17:09    <DIR>          ..\n",
      "26-10-2022  13:00         1,962,271 movies.dat\n",
      "26-10-2022  13:00        27,615,971 ratings.dat\n",
      "26-10-2022  13:00         1,306,136 users.dat\n",
      "               3 File(s)     30,884,378 bytes\n",
      "               2 Dir(s)   8,102,215,680 bytes free\n"
     ]
    }
   ],
   "source": [
    "ls"
   ]
  },
  {
   "cell_type": "code",
   "execution_count": 4,
   "id": "b8f22b46",
   "metadata": {},
   "outputs": [
    {
     "name": "stdout",
     "output_type": "stream",
     "text": [
      "E:\\Movie-Reccomendation-App\n"
     ]
    }
   ],
   "source": [
    "cd .."
   ]
  },
  {
   "cell_type": "code",
   "execution_count": 7,
   "id": "6a517cdb",
   "metadata": {},
   "outputs": [],
   "source": [
    "users = pd.read_csv('data/users.dat' , sep = '::'\n",
    "                   ,names=['user_id', 'twitter_id'] , engine='python')"
   ]
  },
  {
   "cell_type": "code",
   "execution_count": 9,
   "id": "ad0c8673",
   "metadata": {},
   "outputs": [
    {
     "data": {
      "text/html": [
       "<div>\n",
       "<style scoped>\n",
       "    .dataframe tbody tr th:only-of-type {\n",
       "        vertical-align: middle;\n",
       "    }\n",
       "\n",
       "    .dataframe tbody tr th {\n",
       "        vertical-align: top;\n",
       "    }\n",
       "\n",
       "    .dataframe thead th {\n",
       "        text-align: right;\n",
       "    }\n",
       "</style>\n",
       "<table border=\"1\" class=\"dataframe\">\n",
       "  <thead>\n",
       "    <tr style=\"text-align: right;\">\n",
       "      <th></th>\n",
       "      <th>user_id</th>\n",
       "      <th>twitter_id</th>\n",
       "    </tr>\n",
       "  </thead>\n",
       "  <tbody>\n",
       "    <tr>\n",
       "      <th>0</th>\n",
       "      <td>1</td>\n",
       "      <td>139564917</td>\n",
       "    </tr>\n",
       "    <tr>\n",
       "      <th>1</th>\n",
       "      <td>2</td>\n",
       "      <td>17528189</td>\n",
       "    </tr>\n",
       "    <tr>\n",
       "      <th>2</th>\n",
       "      <td>3</td>\n",
       "      <td>522540374</td>\n",
       "    </tr>\n",
       "    <tr>\n",
       "      <th>3</th>\n",
       "      <td>4</td>\n",
       "      <td>475571186</td>\n",
       "    </tr>\n",
       "    <tr>\n",
       "      <th>4</th>\n",
       "      <td>5</td>\n",
       "      <td>215022153</td>\n",
       "    </tr>\n",
       "  </tbody>\n",
       "</table>\n",
       "</div>"
      ],
      "text/plain": [
       "   user_id  twitter_id\n",
       "0        1   139564917\n",
       "1        2    17528189\n",
       "2        3   522540374\n",
       "3        4   475571186\n",
       "4        5   215022153"
      ]
     },
     "execution_count": 9,
     "metadata": {},
     "output_type": "execute_result"
    }
   ],
   "source": [
    "users.head()"
   ]
  },
  {
   "cell_type": "code",
   "execution_count": 10,
   "id": "cc8d8cf0",
   "metadata": {},
   "outputs": [],
   "source": [
    "ratings = pd.read_csv('data/ratings.dat', engine = 'python'\n",
    "                     ,sep='::', names=['user_id', 'movie_id', 'rating'\n",
    "                                       , 'rating_timestamp']).sort_values('rating_timestamp')"
   ]
  },
  {
   "cell_type": "code",
   "execution_count": 11,
   "id": "7b38b898",
   "metadata": {},
   "outputs": [
    {
     "data": {
      "text/html": [
       "<div>\n",
       "<style scoped>\n",
       "    .dataframe tbody tr th:only-of-type {\n",
       "        vertical-align: middle;\n",
       "    }\n",
       "\n",
       "    .dataframe tbody tr th {\n",
       "        vertical-align: top;\n",
       "    }\n",
       "\n",
       "    .dataframe thead th {\n",
       "        text-align: right;\n",
       "    }\n",
       "</style>\n",
       "<table border=\"1\" class=\"dataframe\">\n",
       "  <thead>\n",
       "    <tr style=\"text-align: right;\">\n",
       "      <th></th>\n",
       "      <th>user_id</th>\n",
       "      <th>movie_id</th>\n",
       "      <th>rating</th>\n",
       "      <th>rating_timestamp</th>\n",
       "    </tr>\n",
       "  </thead>\n",
       "  <tbody>\n",
       "    <tr>\n",
       "      <th>147805</th>\n",
       "      <td>11639</td>\n",
       "      <td>2171847</td>\n",
       "      <td>6</td>\n",
       "      <td>1362062307</td>\n",
       "    </tr>\n",
       "    <tr>\n",
       "      <th>613758</th>\n",
       "      <td>48189</td>\n",
       "      <td>444778</td>\n",
       "      <td>8</td>\n",
       "      <td>1362062624</td>\n",
       "    </tr>\n",
       "    <tr>\n",
       "      <th>641371</th>\n",
       "      <td>50219</td>\n",
       "      <td>1411238</td>\n",
       "      <td>6</td>\n",
       "      <td>1362062838</td>\n",
       "    </tr>\n",
       "    <tr>\n",
       "      <th>679235</th>\n",
       "      <td>52967</td>\n",
       "      <td>1496422</td>\n",
       "      <td>7</td>\n",
       "      <td>1362063503</td>\n",
       "    </tr>\n",
       "    <tr>\n",
       "      <th>779780</th>\n",
       "      <td>61176</td>\n",
       "      <td>118799</td>\n",
       "      <td>5</td>\n",
       "      <td>1362063653</td>\n",
       "    </tr>\n",
       "  </tbody>\n",
       "</table>\n",
       "</div>"
      ],
      "text/plain": [
       "        user_id  movie_id  rating  rating_timestamp\n",
       "147805    11639   2171847       6        1362062307\n",
       "613758    48189    444778       8        1362062624\n",
       "641371    50219   1411238       6        1362062838\n",
       "679235    52967   1496422       7        1362063503\n",
       "779780    61176    118799       5        1362063653"
      ]
     },
     "execution_count": 11,
     "metadata": {},
     "output_type": "execute_result"
    }
   ],
   "source": [
    "ratings.head()"
   ]
  },
  {
   "cell_type": "code",
   "execution_count": null,
   "id": "8bec192d",
   "metadata": {},
   "outputs": [],
   "source": []
  }
 ],
 "metadata": {
  "kernelspec": {
   "display_name": "Python 3 (ipykernel)",
   "language": "python",
   "name": "python3"
  },
  "language_info": {
   "codemirror_mode": {
    "name": "ipython",
    "version": 3
   },
   "file_extension": ".py",
   "mimetype": "text/x-python",
   "name": "python",
   "nbconvert_exporter": "python",
   "pygments_lexer": "ipython3",
   "version": "3.9.13"
  }
 },
 "nbformat": 4,
 "nbformat_minor": 5
}
