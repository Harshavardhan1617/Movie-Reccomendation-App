{
 "cells": [
  {
   "cell_type": "code",
   "execution_count": 87,
   "id": "65e34037",
   "metadata": {},
   "outputs": [],
   "source": [
    "import sqlalchemy\n",
    "import pandas as pd\n",
    "#import json\n",
    "import datetime\n",
    "from sqlalchemy.orm import sessionmaker\n",
    "import sqlite3\n",
    "#import requests\n",
    "import twint\n"
   ]
  },
  {
   "cell_type": "code",
   "execution_count": 88,
   "id": "cb8d8c18",
   "metadata": {},
   "outputs": [],
   "source": [
    "DATABASE_LOCATION = \"sqlite:////media/harsha/projects/data/imdb/movies_data.sqlite\"\n",
    "#Connecting to sqlite\n",
    "engine = sqlalchemy.create_engine(DATABASE_LOCATION)\n",
    "conn = sqlite3.connect('/media/harsha/projects/data/imdb/movies_data.sqlite')\n",
    "#Creating a cursor object using the cursor() method\n",
    "cursor = conn.cursor()"
   ]
  },
  {
   "cell_type": "code",
   "execution_count": 89,
   "id": "895c8c1b",
   "metadata": {},
   "outputs": [],
   "source": [
    "q_extract = \"\"\"\n",
    "SELECT ROWID as S_No\n",
    ",user_id \n",
    ",username \n",
    ",tweet\n",
    ",unix_time \n",
    "from tweets \n",
    "WHERE unix_time<(SELECT MIN(unix_time) FROM tweet_titles)\n",
    "\n",
    "\"\"\"\n"
   ]
  },
  {
   "cell_type": "code",
   "execution_count": 90,
   "id": "518afeaa",
   "metadata": {
    "scrolled": true
   },
   "outputs": [
    {
     "name": "stdout",
     "output_type": "stream",
     "text": [
      "<class 'pandas.core.frame.DataFrame'>\n",
      "RangeIndex: 115681 entries, 0 to 115680\n",
      "Data columns (total 5 columns):\n",
      " #   Column     Non-Null Count   Dtype \n",
      "---  ------     --------------   ----- \n",
      " 0   S_No       115681 non-null  int64 \n",
      " 1   user_id    115681 non-null  int64 \n",
      " 2   username   115681 non-null  object\n",
      " 3   tweet      115673 non-null  object\n",
      " 4   unix_time  115681 non-null  int64 \n",
      "dtypes: int64(3), object(2)\n",
      "memory usage: 4.4+ MB\n",
      "None\n"
     ]
    }
   ],
   "source": [
    "try:\n",
    "    df = pd.read_sql_query(q_extract, engine)\n",
    "    print(df.info())\n",
    "except:\n",
    "    print(\"failed to load data\")\n"
   ]
  },
  {
   "cell_type": "code",
   "execution_count": 91,
   "id": "ce642603",
   "metadata": {
    "scrolled": true
   },
   "outputs": [
    {
     "name": "stdout",
     "output_type": "stream",
     "text": [
      "<class 'pandas.core.frame.DataFrame'>\n",
      "Int64Index: 115673 entries, 0 to 115679\n",
      "Data columns (total 5 columns):\n",
      " #   Column     Non-Null Count   Dtype \n",
      "---  ------     --------------   ----- \n",
      " 0   S_No       115673 non-null  int64 \n",
      " 1   user_id    115673 non-null  int64 \n",
      " 2   username   115673 non-null  object\n",
      " 3   tweet      115673 non-null  object\n",
      " 4   unix_time  115673 non-null  int64 \n",
      "dtypes: int64(3), object(2)\n",
      "memory usage: 5.3+ MB\n",
      "#after dropping null \n",
      " None\n"
     ]
    }
   ],
   "source": [
    "#dropping null values\n",
    "df = df.dropna()\n",
    "print(\"#after dropping null \\n\", df.info())"
   ]
  },
  {
   "cell_type": "code",
   "execution_count": 92,
   "id": "d3583d95",
   "metadata": {},
   "outputs": [],
   "source": [
    "# # dropping tweets not in desired format\n",
    "# similar_sentences = df[~df['tweet'].str.contains(\"rated\")]\n",
    "# similar_sentences"
   ]
  },
  {
   "cell_type": "code",
   "execution_count": 93,
   "id": "fd415eb9",
   "metadata": {
    "scrolled": false
   },
   "outputs": [
    {
     "name": "stdout",
     "output_type": "stream",
     "text": [
      "<class 'pandas.core.frame.DataFrame'>\n",
      "Int64Index: 115673 entries, 0 to 115679\n",
      "Data columns (total 8 columns):\n",
      " #   Column     Non-Null Count   Dtype \n",
      "---  ------     --------------   ----- \n",
      " 0   S_No       115673 non-null  int64 \n",
      " 1   user_id    115673 non-null  int64 \n",
      " 2   username   115673 non-null  object\n",
      " 3   tweet      115673 non-null  object\n",
      " 4   unix_time  115673 non-null  int64 \n",
      " 5   title      114736 non-null  object\n",
      " 6   year       114736 non-null  object\n",
      " 7   rating     114736 non-null  object\n",
      "dtypes: int64(3), object(5)\n",
      "memory usage: 7.9+ MB\n",
      "#after extracting strings None\n"
     ]
    }
   ],
   "source": [
    "#extracting titles,year and ratings from tweets\n",
    "df[['title','year','rating']] = df['tweet'].str.extract(r'rated (.*) \\((.*)\\) (.*)')\n",
    "print(\"#after extracting strings\", df.info())"
   ]
  },
  {
   "cell_type": "code",
   "execution_count": 94,
   "id": "1567fd21",
   "metadata": {},
   "outputs": [
    {
     "data": {
      "text/html": [
       "<div>\n",
       "<style scoped>\n",
       "    .dataframe tbody tr th:only-of-type {\n",
       "        vertical-align: middle;\n",
       "    }\n",
       "\n",
       "    .dataframe tbody tr th {\n",
       "        vertical-align: top;\n",
       "    }\n",
       "\n",
       "    .dataframe thead th {\n",
       "        text-align: right;\n",
       "    }\n",
       "</style>\n",
       "<table border=\"1\" class=\"dataframe\">\n",
       "  <thead>\n",
       "    <tr style=\"text-align: right;\">\n",
       "      <th></th>\n",
       "      <th>S_No</th>\n",
       "      <th>user_id</th>\n",
       "      <th>username</th>\n",
       "      <th>tweet</th>\n",
       "      <th>unix_time</th>\n",
       "      <th>title</th>\n",
       "      <th>year</th>\n",
       "      <th>rating</th>\n",
       "    </tr>\n",
       "  </thead>\n",
       "  <tbody>\n",
       "    <tr>\n",
       "      <th>56</th>\n",
       "      <td>57</td>\n",
       "      <td>14248401</td>\n",
       "      <td>bf79</td>\n",
       "      <td>I rated Bullet Train 8/10</td>\n",
       "      <td>1674659099</td>\n",
       "      <td>NaN</td>\n",
       "      <td>NaN</td>\n",
       "      <td>NaN</td>\n",
       "    </tr>\n",
       "    <tr>\n",
       "      <th>103</th>\n",
       "      <td>104</td>\n",
       "      <td>14248401</td>\n",
       "      <td>bf79</td>\n",
       "      <td>I rated Good Night Oppy 7/10</td>\n",
       "      <td>1674532317</td>\n",
       "      <td>NaN</td>\n",
       "      <td>NaN</td>\n",
       "      <td>NaN</td>\n",
       "    </tr>\n",
       "    <tr>\n",
       "      <th>258</th>\n",
       "      <td>259</td>\n",
       "      <td>833012252</td>\n",
       "      <td>KennedyMike4</td>\n",
       "      <td>I rated The Deep House 7/10</td>\n",
       "      <td>1674445603</td>\n",
       "      <td>NaN</td>\n",
       "      <td>NaN</td>\n",
       "      <td>NaN</td>\n",
       "    </tr>\n",
       "    <tr>\n",
       "      <th>273</th>\n",
       "      <td>274</td>\n",
       "      <td>432023011</td>\n",
       "      <td>Makavelimademe</td>\n",
       "      <td>#VELMA has been considered the #1 WORST rated ...</td>\n",
       "      <td>1674440845</td>\n",
       "      <td>NaN</td>\n",
       "      <td>NaN</td>\n",
       "      <td>NaN</td>\n",
       "    </tr>\n",
       "    <tr>\n",
       "      <th>316</th>\n",
       "      <td>317</td>\n",
       "      <td>1518968288335835136</td>\n",
       "      <td>HorrorLovesBeth</td>\n",
       "      <td>I almost never trust an IMDb score. I have lov...</td>\n",
       "      <td>1674422797</td>\n",
       "      <td>NaN</td>\n",
       "      <td>NaN</td>\n",
       "      <td>NaN</td>\n",
       "    </tr>\n",
       "    <tr>\n",
       "      <th>...</th>\n",
       "      <td>...</td>\n",
       "      <td>...</td>\n",
       "      <td>...</td>\n",
       "      <td>...</td>\n",
       "      <td>...</td>\n",
       "      <td>...</td>\n",
       "      <td>...</td>\n",
       "      <td>...</td>\n",
       "    </tr>\n",
       "    <tr>\n",
       "      <th>115410</th>\n",
       "      <td>117438</td>\n",
       "      <td>1539480739</td>\n",
       "      <td>robert_cashin</td>\n",
       "      <td>#GetCarter (1971)</td>\n",
       "      <td>1604543364</td>\n",
       "      <td>NaN</td>\n",
       "      <td>NaN</td>\n",
       "      <td>NaN</td>\n",
       "    </tr>\n",
       "    <tr>\n",
       "      <th>115452</th>\n",
       "      <td>117480</td>\n",
       "      <td>58084897</td>\n",
       "      <td>tinashiba48</td>\n",
       "      <td>I rated Lucifer 「ルシファー」(2016– ) 8/10</td>\n",
       "      <td>1604512879</td>\n",
       "      <td>NaN</td>\n",
       "      <td>NaN</td>\n",
       "      <td>NaN</td>\n",
       "    </tr>\n",
       "    <tr>\n",
       "      <th>115517</th>\n",
       "      <td>117545</td>\n",
       "      <td>1589202139859009538</td>\n",
       "      <td>StevenK_007</td>\n",
       "      <td>I rated The Last Movie Star 2017) 9/10</td>\n",
       "      <td>1674977497</td>\n",
       "      <td>NaN</td>\n",
       "      <td>NaN</td>\n",
       "      <td>NaN</td>\n",
       "    </tr>\n",
       "    <tr>\n",
       "      <th>115538</th>\n",
       "      <td>117566</td>\n",
       "      <td>833012252</td>\n",
       "      <td>KennedyMike4</td>\n",
       "      <td>I rated Broadcast Signal Intrusion 6.5/10</td>\n",
       "      <td>1674970461</td>\n",
       "      <td>NaN</td>\n",
       "      <td>NaN</td>\n",
       "      <td>NaN</td>\n",
       "    </tr>\n",
       "    <tr>\n",
       "      <th>115667</th>\n",
       "      <td>117695</td>\n",
       "      <td>229445285</td>\n",
       "      <td>ahmedcayli</td>\n",
       "      <td>I rated Only Murders in the Building: Season2 ...</td>\n",
       "      <td>1674934663</td>\n",
       "      <td>NaN</td>\n",
       "      <td>NaN</td>\n",
       "      <td>NaN</td>\n",
       "    </tr>\n",
       "  </tbody>\n",
       "</table>\n",
       "<p>937 rows × 8 columns</p>\n",
       "</div>"
      ],
      "text/plain": [
       "          S_No              user_id         username  \\\n",
       "56          57             14248401             bf79   \n",
       "103        104             14248401             bf79   \n",
       "258        259            833012252     KennedyMike4   \n",
       "273        274            432023011   Makavelimademe   \n",
       "316        317  1518968288335835136  HorrorLovesBeth   \n",
       "...        ...                  ...              ...   \n",
       "115410  117438           1539480739    robert_cashin   \n",
       "115452  117480             58084897      tinashiba48   \n",
       "115517  117545  1589202139859009538      StevenK_007   \n",
       "115538  117566            833012252     KennedyMike4   \n",
       "115667  117695            229445285       ahmedcayli   \n",
       "\n",
       "                                                    tweet   unix_time title  \\\n",
       "56                             I rated Bullet Train 8/10   1674659099   NaN   \n",
       "103                          I rated Good Night Oppy 7/10  1674532317   NaN   \n",
       "258                          I rated The Deep House 7/10   1674445603   NaN   \n",
       "273     #VELMA has been considered the #1 WORST rated ...  1674440845   NaN   \n",
       "316     I almost never trust an IMDb score. I have lov...  1674422797   NaN   \n",
       "...                                                   ...         ...   ...   \n",
       "115410                                  #GetCarter (1971)  1604543364   NaN   \n",
       "115452              I rated Lucifer 「ルシファー」(2016– ) 8/10   1604512879   NaN   \n",
       "115517            I rated The Last Movie Star 2017) 9/10   1674977497   NaN   \n",
       "115538        I rated Broadcast Signal Intrusion 6.5/10    1674970461   NaN   \n",
       "115667  I rated Only Murders in the Building: Season2 ...  1674934663   NaN   \n",
       "\n",
       "       year rating  \n",
       "56      NaN    NaN  \n",
       "103     NaN    NaN  \n",
       "258     NaN    NaN  \n",
       "273     NaN    NaN  \n",
       "316     NaN    NaN  \n",
       "...     ...    ...  \n",
       "115410  NaN    NaN  \n",
       "115452  NaN    NaN  \n",
       "115517  NaN    NaN  \n",
       "115538  NaN    NaN  \n",
       "115667  NaN    NaN  \n",
       "\n",
       "[937 rows x 8 columns]"
      ]
     },
     "execution_count": 94,
     "metadata": {},
     "output_type": "execute_result"
    }
   ],
   "source": [
    "df[df['title'].isnull()]\n"
   ]
  },
  {
   "cell_type": "code",
   "execution_count": 95,
   "id": "0b2c51f0",
   "metadata": {},
   "outputs": [],
   "source": [
    "#removing null titles\n",
    "df_2 = df[df['title'].isnull()]\n",
    "df = df[~df['S_No'].isin(df_2['S_No'])]\n",
    "#df[df['title'].isnull()]"
   ]
  },
  {
   "cell_type": "code",
   "execution_count": 96,
   "id": "b2ed96d8",
   "metadata": {
    "scrolled": true
   },
   "outputs": [
    {
     "name": "stdout",
     "output_type": "stream",
     "text": [
      "<class 'pandas.core.frame.DataFrame'>\n",
      "Int64Index: 83038 entries, 0 to 115679\n",
      "Data columns (total 8 columns):\n",
      " #   Column     Non-Null Count  Dtype \n",
      "---  ------     --------------  ----- \n",
      " 0   S_No       83038 non-null  int64 \n",
      " 1   user_id    83038 non-null  int64 \n",
      " 2   username   83038 non-null  object\n",
      " 3   tweet      83038 non-null  object\n",
      " 4   unix_time  83038 non-null  int64 \n",
      " 5   title      83038 non-null  object\n",
      " 6   year       83038 non-null  object\n",
      " 7   rating     83038 non-null  object\n",
      "dtypes: int64(3), object(5)\n",
      "memory usage: 5.7+ MB\n",
      "#after removing tv-shows None\n"
     ]
    }
   ],
   "source": [
    "df_1 = df[df['year'].str.len()>4]\n",
    "df = df[~df['S_No'].isin(df_1['S_No'])]\n",
    "print(\"#after removing tv-shows\", df.info())"
   ]
  },
  {
   "cell_type": "code",
   "execution_count": 97,
   "id": "2b53816f",
   "metadata": {},
   "outputs": [],
   "source": [
    "# df = df.drop('S_No', axis=1)\n",
    "# df.info()"
   ]
  },
  {
   "cell_type": "code",
   "execution_count": 98,
   "id": "b69eabfc",
   "metadata": {},
   "outputs": [
    {
     "name": "stdout",
     "output_type": "stream",
     "text": [
      "Opened database successfully\n"
     ]
    },
    {
     "ename": "NameError",
     "evalue": "name 'tweets_df' is not defined",
     "output_type": "error",
     "traceback": [
      "\u001b[0;31m---------------------------------------------------------------------------\u001b[0m",
      "\u001b[0;31mNameError\u001b[0m                                 Traceback (most recent call last)",
      "\u001b[0;32m/tmp/ipykernel_3602/30786918.py\u001b[0m in \u001b[0;36m<module>\u001b[0;34m\u001b[0m\n\u001b[1;32m     25\u001b[0m \u001b[0;31m# except:\u001b[0m\u001b[0;34m\u001b[0m\u001b[0;34m\u001b[0m\u001b[0m\n\u001b[1;32m     26\u001b[0m \u001b[0;31m#     print(\"Data already exists in the database\")\u001b[0m\u001b[0;34m\u001b[0m\u001b[0;34m\u001b[0m\u001b[0m\n\u001b[0;32m---> 27\u001b[0;31m \u001b[0mtweets_df\u001b[0m\u001b[0;34m.\u001b[0m\u001b[0mto_sql\u001b[0m\u001b[0;34m(\u001b[0m\u001b[0;34m\"tweet_titles\"\u001b[0m\u001b[0;34m,\u001b[0m \u001b[0mengine\u001b[0m\u001b[0;34m,\u001b[0m \u001b[0mindex\u001b[0m\u001b[0;34m=\u001b[0m\u001b[0;32mFalse\u001b[0m\u001b[0;34m,\u001b[0m \u001b[0mif_exists\u001b[0m\u001b[0;34m=\u001b[0m\u001b[0;34m'append'\u001b[0m\u001b[0;34m)\u001b[0m\u001b[0;34m\u001b[0m\u001b[0;34m\u001b[0m\u001b[0m\n\u001b[0m\u001b[1;32m     28\u001b[0m \u001b[0;34m\u001b[0m\u001b[0m\n\u001b[1;32m     29\u001b[0m \u001b[0mconn\u001b[0m\u001b[0;34m.\u001b[0m\u001b[0mclose\u001b[0m\u001b[0;34m(\u001b[0m\u001b[0;34m)\u001b[0m\u001b[0;34m\u001b[0m\u001b[0;34m\u001b[0m\u001b[0m\n",
      "\u001b[0;31mNameError\u001b[0m: name 'tweets_df' is not defined"
     ]
    }
   ],
   "source": [
    "cursor = conn.cursor()\n",
    "#load\n",
    "sql_query = \"\"\"\n",
    "CREATE TABLE IF NOT EXISTS tweet_titles(\n",
    "    S_No VARCHAR(200),\n",
    "    user_id VARCHAR(200),\n",
    "    username VARCHAR(200),\n",
    "    tweet VARCHAR(200),\n",
    "    unix_time VARCHAR(200),\n",
    "    title VARCHAR(200),\n",
    "    year VARCHAR(200),\n",
    "    rating VARCHAR(200),\n",
    "    CONSTRAINT primary_key_constraint PRIMARY KEY (S_No)\n",
    "\n",
    "\n",
    ")\n",
    "\"\"\"\n",
    "\n",
    "\n",
    "cursor.execute(sql_query)\n",
    "print(\"Opened database successfully\")\n",
    "\n",
    "# try:\n",
    "#     tweets_df.to_sql(\"tweet_titles\", engine, index=False, if_exists='append')\n",
    "# except:\n",
    "#     print(\"Data already exists in the database\")\n",
    "tweets_df.to_sql(\"tweet_titles\", engine, index=False, if_exists='append')\n",
    "\n",
    "conn.close()\n",
    "print(\"Close database successfully\")"
   ]
  }
 ],
 "metadata": {
  "kernelspec": {
   "display_name": "Python 3 (ipykernel)",
   "language": "python",
   "name": "python3"
  },
  "language_info": {
   "codemirror_mode": {
    "name": "ipython",
    "version": 3
   },
   "file_extension": ".py",
   "mimetype": "text/x-python",
   "name": "python",
   "nbconvert_exporter": "python",
   "pygments_lexer": "ipython3",
   "version": "3.9.13"
  }
 },
 "nbformat": 4,
 "nbformat_minor": 5
}
