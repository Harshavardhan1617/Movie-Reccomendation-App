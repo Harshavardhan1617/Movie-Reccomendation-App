{
 "cells": [
  {
   "cell_type": "code",
   "execution_count": 1,
   "id": "aac0e829",
   "metadata": {},
   "outputs": [],
   "source": [
    "import numpy as np\n",
    "import pandas as pd\n",
    "import matplotlib.pyplot as plt"
   ]
  },
  {
   "cell_type": "code",
   "execution_count": 3,
   "id": "74353e4c",
   "metadata": {},
   "outputs": [
    {
     "name": "stdout",
     "output_type": "stream",
     "text": [
      "inspec.ipynb\n",
      "movies.dat\n",
      "ratings.dat\n",
      "users.dat\n"
     ]
    }
   ],
   "source": [
    "!ls"
   ]
  },
  {
   "cell_type": "code",
   "execution_count": 4,
   "id": "fb6fa33a",
   "metadata": {},
   "outputs": [
    {
     "name": "stdout",
     "output_type": "stream",
     "text": [
      "0000008::Edison Kinetoscopic Record of a Sneeze (1894)::Documentary|Short\n",
      "0000010::La sortie des usines LumiÃ¨re (1895)::Documentary|Short\n",
      "0000012::The Arrival of a Train (1896)::Documentary|Short\n",
      "25::The Oxford and Cambridge University Boat Race (1895)::\n",
      "0000091::Le manoir du diable (1896)::Short|Horror\n"
     ]
    }
   ],
   "source": [
    "!head -n5 movies.dat"
   ]
  },
  {
   "cell_type": "code",
   "execution_count": 11,
   "id": "2f66fd1e",
   "metadata": {
    "scrolled": true
   },
   "outputs": [
    {
     "data": {
      "text/html": [
       "<div>\n",
       "<style scoped>\n",
       "    .dataframe tbody tr th:only-of-type {\n",
       "        vertical-align: middle;\n",
       "    }\n",
       "\n",
       "    .dataframe tbody tr th {\n",
       "        vertical-align: top;\n",
       "    }\n",
       "\n",
       "    .dataframe thead th {\n",
       "        text-align: right;\n",
       "    }\n",
       "</style>\n",
       "<table border=\"1\" class=\"dataframe\">\n",
       "  <thead>\n",
       "    <tr style=\"text-align: right;\">\n",
       "      <th></th>\n",
       "      <th>movie_id</th>\n",
       "      <th>title</th>\n",
       "      <th>genre</th>\n",
       "    </tr>\n",
       "  </thead>\n",
       "  <tbody>\n",
       "    <tr>\n",
       "      <th>0</th>\n",
       "      <td>8</td>\n",
       "      <td>Edison Kinetoscopic Record of a Sneeze (1894)</td>\n",
       "      <td>Documentary|Short</td>\n",
       "    </tr>\n",
       "    <tr>\n",
       "      <th>1</th>\n",
       "      <td>10</td>\n",
       "      <td>La sortie des usines Lumière (1895)</td>\n",
       "      <td>Documentary|Short</td>\n",
       "    </tr>\n",
       "    <tr>\n",
       "      <th>2</th>\n",
       "      <td>12</td>\n",
       "      <td>The Arrival of a Train (1896)</td>\n",
       "      <td>Documentary|Short</td>\n",
       "    </tr>\n",
       "    <tr>\n",
       "      <th>3</th>\n",
       "      <td>25</td>\n",
       "      <td>The Oxford and Cambridge University Boat Race ...</td>\n",
       "      <td>NaN</td>\n",
       "    </tr>\n",
       "    <tr>\n",
       "      <th>4</th>\n",
       "      <td>91</td>\n",
       "      <td>Le manoir du diable (1896)</td>\n",
       "      <td>Short|Horror</td>\n",
       "    </tr>\n",
       "    <tr>\n",
       "      <th>...</th>\n",
       "      <td>...</td>\n",
       "      <td>...</td>\n",
       "      <td>...</td>\n",
       "    </tr>\n",
       "    <tr>\n",
       "      <th>38013</th>\n",
       "      <td>15711402</td>\n",
       "      <td>Les rois de l&amp;x27;arnaque (2021)</td>\n",
       "      <td>Crime|Documentary</td>\n",
       "    </tr>\n",
       "    <tr>\n",
       "      <th>38014</th>\n",
       "      <td>15831978</td>\n",
       "      <td>Cash (2021)</td>\n",
       "      <td>NaN</td>\n",
       "    </tr>\n",
       "    <tr>\n",
       "      <th>38015</th>\n",
       "      <td>15839820</td>\n",
       "      <td>Sompoy (2021)</td>\n",
       "      <td>Comedy|Romance</td>\n",
       "    </tr>\n",
       "    <tr>\n",
       "      <th>38016</th>\n",
       "      <td>15842076</td>\n",
       "      <td>The Making of &amp;x27;Rocky vs. Drago&amp;x27; (2021)</td>\n",
       "      <td>Documentary</td>\n",
       "    </tr>\n",
       "    <tr>\n",
       "      <th>38017</th>\n",
       "      <td>16058736</td>\n",
       "      <td>Rocky IV: Rocky vs Drago - The Ultimate Direct...</td>\n",
       "      <td>NaN</td>\n",
       "    </tr>\n",
       "  </tbody>\n",
       "</table>\n",
       "<p>38018 rows × 3 columns</p>\n",
       "</div>"
      ],
      "text/plain": [
       "       movie_id                                              title  \\\n",
       "0             8      Edison Kinetoscopic Record of a Sneeze (1894)   \n",
       "1            10                La sortie des usines Lumière (1895)   \n",
       "2            12                      The Arrival of a Train (1896)   \n",
       "3            25  The Oxford and Cambridge University Boat Race ...   \n",
       "4            91                         Le manoir du diable (1896)   \n",
       "...         ...                                                ...   \n",
       "38013  15711402                   Les rois de l&x27;arnaque (2021)   \n",
       "38014  15831978                                        Cash (2021)   \n",
       "38015  15839820                                      Sompoy (2021)   \n",
       "38016  15842076     The Making of &x27;Rocky vs. Drago&x27; (2021)   \n",
       "38017  16058736  Rocky IV: Rocky vs Drago - The Ultimate Direct...   \n",
       "\n",
       "                   genre  \n",
       "0      Documentary|Short  \n",
       "1      Documentary|Short  \n",
       "2      Documentary|Short  \n",
       "3                    NaN  \n",
       "4           Short|Horror  \n",
       "...                  ...  \n",
       "38013  Crime|Documentary  \n",
       "38014                NaN  \n",
       "38015     Comedy|Romance  \n",
       "38016        Documentary  \n",
       "38017                NaN  \n",
       "\n",
       "[38018 rows x 3 columns]"
      ]
     },
     "execution_count": 11,
     "metadata": {},
     "output_type": "execute_result"
    }
   ],
   "source": [
    "movies = pd.read_csv('movies.dat', engine='python', sep='::',\n",
    "                    names = ['movie_id', 'title', 'genre'])\n",
    "movies"
   ]
  },
  {
   "cell_type": "code",
   "execution_count": 12,
   "id": "bc01ff53",
   "metadata": {},
   "outputs": [
    {
     "name": "stdout",
     "output_type": "stream",
     "text": [
      "1::0114508::8::1381006850\n",
      "2::0499549::9::1376753198\n",
      "2::1305591::8::1376742507\n",
      "2::1428538::1::1371307089\n",
      "3::0075314::1::1595468524\n"
     ]
    }
   ],
   "source": [
    "!head -n5 ratings.dat"
   ]
  },
  {
   "cell_type": "code",
   "execution_count": 13,
   "id": "3259c45b",
   "metadata": {},
   "outputs": [
    {
     "name": "stdout",
     "output_type": "stream",
     "text": [
      "1::139564917\n",
      "2::17528189\n",
      "3::522540374\n",
      "4::475571186\n",
      "5::215022153\n"
     ]
    }
   ],
   "source": [
    "!head -n5 users.dat"
   ]
  },
  {
   "cell_type": "code",
   "execution_count": 15,
   "id": "e36e67cb",
   "metadata": {},
   "outputs": [
    {
     "data": {
      "text/html": [
       "<div>\n",
       "<style scoped>\n",
       "    .dataframe tbody tr th:only-of-type {\n",
       "        vertical-align: middle;\n",
       "    }\n",
       "\n",
       "    .dataframe tbody tr th {\n",
       "        vertical-align: top;\n",
       "    }\n",
       "\n",
       "    .dataframe thead th {\n",
       "        text-align: right;\n",
       "    }\n",
       "</style>\n",
       "<table border=\"1\" class=\"dataframe\">\n",
       "  <thead>\n",
       "    <tr style=\"text-align: right;\">\n",
       "      <th></th>\n",
       "      <th>user_id</th>\n",
       "      <th>movie_id</th>\n",
       "      <th>rating</th>\n",
       "      <th>rating_timestamp</th>\n",
       "    </tr>\n",
       "  </thead>\n",
       "  <tbody>\n",
       "    <tr>\n",
       "      <th>0</th>\n",
       "      <td>1</td>\n",
       "      <td>114508</td>\n",
       "      <td>8</td>\n",
       "      <td>1381006850</td>\n",
       "    </tr>\n",
       "    <tr>\n",
       "      <th>1</th>\n",
       "      <td>2</td>\n",
       "      <td>499549</td>\n",
       "      <td>9</td>\n",
       "      <td>1376753198</td>\n",
       "    </tr>\n",
       "    <tr>\n",
       "      <th>2</th>\n",
       "      <td>2</td>\n",
       "      <td>1305591</td>\n",
       "      <td>8</td>\n",
       "      <td>1376742507</td>\n",
       "    </tr>\n",
       "    <tr>\n",
       "      <th>3</th>\n",
       "      <td>2</td>\n",
       "      <td>1428538</td>\n",
       "      <td>1</td>\n",
       "      <td>1371307089</td>\n",
       "    </tr>\n",
       "    <tr>\n",
       "      <th>4</th>\n",
       "      <td>3</td>\n",
       "      <td>75314</td>\n",
       "      <td>1</td>\n",
       "      <td>1595468524</td>\n",
       "    </tr>\n",
       "    <tr>\n",
       "      <th>...</th>\n",
       "      <td>...</td>\n",
       "      <td>...</td>\n",
       "      <td>...</td>\n",
       "      <td>...</td>\n",
       "    </tr>\n",
       "    <tr>\n",
       "      <th>921393</th>\n",
       "      <td>71705</td>\n",
       "      <td>9893250</td>\n",
       "      <td>10</td>\n",
       "      <td>1613857551</td>\n",
       "    </tr>\n",
       "    <tr>\n",
       "      <th>921394</th>\n",
       "      <td>71705</td>\n",
       "      <td>9898858</td>\n",
       "      <td>3</td>\n",
       "      <td>1585958452</td>\n",
       "    </tr>\n",
       "    <tr>\n",
       "      <th>921395</th>\n",
       "      <td>71706</td>\n",
       "      <td>172495</td>\n",
       "      <td>10</td>\n",
       "      <td>1587107015</td>\n",
       "    </tr>\n",
       "    <tr>\n",
       "      <th>921396</th>\n",
       "      <td>71706</td>\n",
       "      <td>414387</td>\n",
       "      <td>10</td>\n",
       "      <td>1587107852</td>\n",
       "    </tr>\n",
       "    <tr>\n",
       "      <th>921397</th>\n",
       "      <td>71707</td>\n",
       "      <td>1623205</td>\n",
       "      <td>6</td>\n",
       "      <td>1362832655</td>\n",
       "    </tr>\n",
       "  </tbody>\n",
       "</table>\n",
       "<p>921398 rows × 4 columns</p>\n",
       "</div>"
      ],
      "text/plain": [
       "        user_id  movie_id  rating  rating_timestamp\n",
       "0             1    114508       8        1381006850\n",
       "1             2    499549       9        1376753198\n",
       "2             2   1305591       8        1376742507\n",
       "3             2   1428538       1        1371307089\n",
       "4             3     75314       1        1595468524\n",
       "...         ...       ...     ...               ...\n",
       "921393    71705   9893250      10        1613857551\n",
       "921394    71705   9898858       3        1585958452\n",
       "921395    71706    172495      10        1587107015\n",
       "921396    71706    414387      10        1587107852\n",
       "921397    71707   1623205       6        1362832655\n",
       "\n",
       "[921398 rows x 4 columns]"
      ]
     },
     "execution_count": 15,
     "metadata": {},
     "output_type": "execute_result"
    }
   ],
   "source": [
    "ratings = pd.read_csv('ratings.dat', sep='::', engine='python'\n",
    "                     ,names=['user_id', 'movie_id', 'rating', 'rating_timestamp'])\n",
    "ratings"
   ]
  },
  {
   "cell_type": "code",
   "execution_count": null,
   "id": "49359a99",
   "metadata": {},
   "outputs": [],
   "source": [
    "u_r = pd."
   ]
  }
 ],
 "metadata": {
  "kernelspec": {
   "display_name": "Python 3 (ipykernel)",
   "language": "python",
   "name": "python3"
  },
  "language_info": {
   "codemirror_mode": {
    "name": "ipython",
    "version": 3
   },
   "file_extension": ".py",
   "mimetype": "text/x-python",
   "name": "python",
   "nbconvert_exporter": "python",
   "pygments_lexer": "ipython3",
   "version": "3.9.13"
  }
 },
 "nbformat": 4,
 "nbformat_minor": 5
}
