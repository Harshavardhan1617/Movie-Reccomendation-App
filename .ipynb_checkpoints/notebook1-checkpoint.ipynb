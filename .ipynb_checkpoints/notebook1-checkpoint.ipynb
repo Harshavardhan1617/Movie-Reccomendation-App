{
 "cells": [
  {
   "cell_type": "code",
   "execution_count": 2,
   "id": "00ff16ec",
   "metadata": {},
   "outputs": [],
   "source": [
    "import pandas as pd\n",
    "import numpy as np\n",
    "import scipy as sc\n",
    "\n",
    "import matplotlib.pyplot as plt\n",
    "import seaborn as sns\n",
    "\n",
    "plt.style.use('fivethirtyeight')\n",
    "pd.set_option('display.max_rows', 100)\n",
    "pd.set_option('display.max_columns', 100)"
   ]
  },
  {
   "cell_type": "code",
   "execution_count": 3,
   "id": "e7ddc01b",
   "metadata": {},
   "outputs": [
    {
     "name": "stdout",
     "output_type": "stream",
     "text": [
      "E:\\Movie-Reccomendation-App\\data\n"
     ]
    }
   ],
   "source": [
    "cd data "
   ]
  },
  {
   "cell_type": "code",
   "execution_count": 4,
   "id": "bf8bf8f0",
   "metadata": {},
   "outputs": [
    {
     "name": "stdout",
     "output_type": "stream",
     "text": [
      " Volume in drive E is projects\n",
      " Volume Serial Number is 7261-B979\n",
      "\n",
      " Directory of E:\\Movie-Reccomendation-App\\data\n",
      "\n",
      "13-01-2023  14:25    <DIR>          .\n",
      "13-01-2023  14:25    <DIR>          ..\n",
      "13-01-2023  14:25         2,000,289 movies.dat\n",
      "13-01-2023  14:25        28,537,369 ratings.dat\n",
      "13-01-2023  14:25         1,377,843 users.dat\n",
      "               3 File(s)     31,915,501 bytes\n",
      "               2 Dir(s)   8,054,558,720 bytes free\n"
     ]
    }
   ],
   "source": [
    "ls"
   ]
  },
  {
   "cell_type": "code",
   "execution_count": 5,
   "id": "b8f22b46",
   "metadata": {},
   "outputs": [
    {
     "name": "stdout",
     "output_type": "stream",
     "text": [
      "E:\\Movie-Reccomendation-App\n"
     ]
    }
   ],
   "source": [
    "cd .."
   ]
  },
  {
   "cell_type": "code",
   "execution_count": 6,
   "id": "6a517cdb",
   "metadata": {},
   "outputs": [],
   "source": [
    "users = pd.read_csv('data/users.dat' , sep = '::'\n",
    "                   ,names=['user_id', 'twitter_id'] , engine='python')"
   ]
  },
  {
   "cell_type": "code",
   "execution_count": 7,
   "id": "ad0c8673",
   "metadata": {},
   "outputs": [
    {
     "data": {
      "text/html": [
       "<div>\n",
       "<style scoped>\n",
       "    .dataframe tbody tr th:only-of-type {\n",
       "        vertical-align: middle;\n",
       "    }\n",
       "\n",
       "    .dataframe tbody tr th {\n",
       "        vertical-align: top;\n",
       "    }\n",
       "\n",
       "    .dataframe thead th {\n",
       "        text-align: right;\n",
       "    }\n",
       "</style>\n",
       "<table border=\"1\" class=\"dataframe\">\n",
       "  <thead>\n",
       "    <tr style=\"text-align: right;\">\n",
       "      <th></th>\n",
       "      <th>user_id</th>\n",
       "      <th>twitter_id</th>\n",
       "    </tr>\n",
       "  </thead>\n",
       "  <tbody>\n",
       "    <tr>\n",
       "      <th>0</th>\n",
       "      <td>1</td>\n",
       "      <td>139564917</td>\n",
       "    </tr>\n",
       "    <tr>\n",
       "      <th>1</th>\n",
       "      <td>2</td>\n",
       "      <td>17528189</td>\n",
       "    </tr>\n",
       "    <tr>\n",
       "      <th>2</th>\n",
       "      <td>3</td>\n",
       "      <td>522540374</td>\n",
       "    </tr>\n",
       "    <tr>\n",
       "      <th>3</th>\n",
       "      <td>4</td>\n",
       "      <td>475571186</td>\n",
       "    </tr>\n",
       "    <tr>\n",
       "      <th>4</th>\n",
       "      <td>5</td>\n",
       "      <td>215022153</td>\n",
       "    </tr>\n",
       "  </tbody>\n",
       "</table>\n",
       "</div>"
      ],
      "text/plain": [
       "   user_id  twitter_id\n",
       "0        1   139564917\n",
       "1        2    17528189\n",
       "2        3   522540374\n",
       "3        4   475571186\n",
       "4        5   215022153"
      ]
     },
     "execution_count": 7,
     "metadata": {},
     "output_type": "execute_result"
    }
   ],
   "source": [
    "users.head()"
   ]
  },
  {
   "cell_type": "code",
   "execution_count": 8,
   "id": "cc8d8cf0",
   "metadata": {},
   "outputs": [],
   "source": [
    "ratings = pd.read_csv('data/ratings.dat', engine = 'python'\n",
    "                     ,sep='::', names=['user_id', 'movie_id', 'rating'\n",
    "                                       , 'rating_timestamp']).sort_values('rating_timestamp')"
   ]
  },
  {
   "cell_type": "code",
   "execution_count": 9,
   "id": "7b38b898",
   "metadata": {},
   "outputs": [
    {
     "data": {
      "text/html": [
       "<div>\n",
       "<style scoped>\n",
       "    .dataframe tbody tr th:only-of-type {\n",
       "        vertical-align: middle;\n",
       "    }\n",
       "\n",
       "    .dataframe tbody tr th {\n",
       "        vertical-align: top;\n",
       "    }\n",
       "\n",
       "    .dataframe thead th {\n",
       "        text-align: right;\n",
       "    }\n",
       "</style>\n",
       "<table border=\"1\" class=\"dataframe\">\n",
       "  <thead>\n",
       "    <tr style=\"text-align: right;\">\n",
       "      <th></th>\n",
       "      <th>user_id</th>\n",
       "      <th>movie_id</th>\n",
       "      <th>rating</th>\n",
       "      <th>rating_timestamp</th>\n",
       "    </tr>\n",
       "  </thead>\n",
       "  <tbody>\n",
       "    <tr>\n",
       "      <th>147805</th>\n",
       "      <td>11639</td>\n",
       "      <td>2171847</td>\n",
       "      <td>6</td>\n",
       "      <td>1362062307</td>\n",
       "    </tr>\n",
       "    <tr>\n",
       "      <th>613758</th>\n",
       "      <td>48189</td>\n",
       "      <td>444778</td>\n",
       "      <td>8</td>\n",
       "      <td>1362062624</td>\n",
       "    </tr>\n",
       "    <tr>\n",
       "      <th>641371</th>\n",
       "      <td>50219</td>\n",
       "      <td>1411238</td>\n",
       "      <td>6</td>\n",
       "      <td>1362062838</td>\n",
       "    </tr>\n",
       "    <tr>\n",
       "      <th>679235</th>\n",
       "      <td>52967</td>\n",
       "      <td>1496422</td>\n",
       "      <td>7</td>\n",
       "      <td>1362063503</td>\n",
       "    </tr>\n",
       "    <tr>\n",
       "      <th>779780</th>\n",
       "      <td>61176</td>\n",
       "      <td>118799</td>\n",
       "      <td>5</td>\n",
       "      <td>1362063653</td>\n",
       "    </tr>\n",
       "  </tbody>\n",
       "</table>\n",
       "</div>"
      ],
      "text/plain": [
       "        user_id  movie_id  rating  rating_timestamp\n",
       "147805    11639   2171847       6        1362062307\n",
       "613758    48189    444778       8        1362062624\n",
       "641371    50219   1411238       6        1362062838\n",
       "679235    52967   1496422       7        1362063503\n",
       "779780    61176    118799       5        1362063653"
      ]
     },
     "execution_count": 9,
     "metadata": {},
     "output_type": "execute_result"
    }
   ],
   "source": [
    "ratings.head()"
   ]
  },
  {
   "cell_type": "code",
   "execution_count": 10,
   "id": "8bec192d",
   "metadata": {},
   "outputs": [],
   "source": [
    "movies = pd.read_csv('data/movies.dat', engine = 'python'\n",
    "                    ,sep='::', names=['movie_id', 'movie_title', 'genre'])"
   ]
  },
  {
   "cell_type": "code",
   "execution_count": 11,
   "id": "337a26ee",
   "metadata": {},
   "outputs": [
    {
     "data": {
      "text/html": [
       "<div>\n",
       "<style scoped>\n",
       "    .dataframe tbody tr th:only-of-type {\n",
       "        vertical-align: middle;\n",
       "    }\n",
       "\n",
       "    .dataframe tbody tr th {\n",
       "        vertical-align: top;\n",
       "    }\n",
       "\n",
       "    .dataframe thead th {\n",
       "        text-align: right;\n",
       "    }\n",
       "</style>\n",
       "<table border=\"1\" class=\"dataframe\">\n",
       "  <thead>\n",
       "    <tr style=\"text-align: right;\">\n",
       "      <th></th>\n",
       "      <th>movie_id</th>\n",
       "      <th>movie_title</th>\n",
       "      <th>genre</th>\n",
       "    </tr>\n",
       "  </thead>\n",
       "  <tbody>\n",
       "    <tr>\n",
       "      <th>0</th>\n",
       "      <td>8</td>\n",
       "      <td>Edison Kinetoscopic Record of a Sneeze (1894)</td>\n",
       "      <td>Documentary|Short</td>\n",
       "    </tr>\n",
       "    <tr>\n",
       "      <th>1</th>\n",
       "      <td>10</td>\n",
       "      <td>La sortie des usines Lumière (1895)</td>\n",
       "      <td>Documentary|Short</td>\n",
       "    </tr>\n",
       "    <tr>\n",
       "      <th>2</th>\n",
       "      <td>12</td>\n",
       "      <td>The Arrival of a Train (1896)</td>\n",
       "      <td>Documentary|Short</td>\n",
       "    </tr>\n",
       "    <tr>\n",
       "      <th>3</th>\n",
       "      <td>25</td>\n",
       "      <td>The Oxford and Cambridge University Boat Race ...</td>\n",
       "      <td>NaN</td>\n",
       "    </tr>\n",
       "    <tr>\n",
       "      <th>4</th>\n",
       "      <td>91</td>\n",
       "      <td>Le manoir du diable (1896)</td>\n",
       "      <td>Short|Horror</td>\n",
       "    </tr>\n",
       "    <tr>\n",
       "      <th>...</th>\n",
       "      <td>...</td>\n",
       "      <td>...</td>\n",
       "      <td>...</td>\n",
       "    </tr>\n",
       "    <tr>\n",
       "      <th>38013</th>\n",
       "      <td>15711402</td>\n",
       "      <td>Les rois de l&amp;x27;arnaque (2021)</td>\n",
       "      <td>Crime|Documentary</td>\n",
       "    </tr>\n",
       "    <tr>\n",
       "      <th>38014</th>\n",
       "      <td>15831978</td>\n",
       "      <td>Cash (2021)</td>\n",
       "      <td>NaN</td>\n",
       "    </tr>\n",
       "    <tr>\n",
       "      <th>38015</th>\n",
       "      <td>15839820</td>\n",
       "      <td>Sompoy (2021)</td>\n",
       "      <td>Comedy|Romance</td>\n",
       "    </tr>\n",
       "    <tr>\n",
       "      <th>38016</th>\n",
       "      <td>15842076</td>\n",
       "      <td>The Making of &amp;x27;Rocky vs. Drago&amp;x27; (2021)</td>\n",
       "      <td>Documentary</td>\n",
       "    </tr>\n",
       "    <tr>\n",
       "      <th>38017</th>\n",
       "      <td>16058736</td>\n",
       "      <td>Rocky IV: Rocky vs Drago - The Ultimate Direct...</td>\n",
       "      <td>NaN</td>\n",
       "    </tr>\n",
       "  </tbody>\n",
       "</table>\n",
       "<p>38018 rows × 3 columns</p>\n",
       "</div>"
      ],
      "text/plain": [
       "       movie_id                                        movie_title  \\\n",
       "0             8      Edison Kinetoscopic Record of a Sneeze (1894)   \n",
       "1            10                La sortie des usines Lumière (1895)   \n",
       "2            12                      The Arrival of a Train (1896)   \n",
       "3            25  The Oxford and Cambridge University Boat Race ...   \n",
       "4            91                         Le manoir du diable (1896)   \n",
       "...         ...                                                ...   \n",
       "38013  15711402                   Les rois de l&x27;arnaque (2021)   \n",
       "38014  15831978                                        Cash (2021)   \n",
       "38015  15839820                                      Sompoy (2021)   \n",
       "38016  15842076     The Making of &x27;Rocky vs. Drago&x27; (2021)   \n",
       "38017  16058736  Rocky IV: Rocky vs Drago - The Ultimate Direct...   \n",
       "\n",
       "                   genre  \n",
       "0      Documentary|Short  \n",
       "1      Documentary|Short  \n",
       "2      Documentary|Short  \n",
       "3                    NaN  \n",
       "4           Short|Horror  \n",
       "...                  ...  \n",
       "38013  Crime|Documentary  \n",
       "38014                NaN  \n",
       "38015     Comedy|Romance  \n",
       "38016        Documentary  \n",
       "38017                NaN  \n",
       "\n",
       "[38018 rows x 3 columns]"
      ]
     },
     "execution_count": 11,
     "metadata": {},
     "output_type": "execute_result"
    }
   ],
   "source": [
    "movies"
   ]
  },
  {
   "cell_type": "code",
   "execution_count": 14,
   "id": "7ce42eb0",
   "metadata": {},
   "outputs": [
    {
     "data": {
      "text/plain": [
       "movie_id        0\n",
       "movie_title     0\n",
       "genre          54\n",
       "dtype: int64"
      ]
     },
     "execution_count": 14,
     "metadata": {},
     "output_type": "execute_result"
    }
   ],
   "source": [
    "movies.isnull().sum()\n"
   ]
  },
  {
   "cell_type": "code",
   "execution_count": 15,
   "id": "9937b8e6",
   "metadata": {},
   "outputs": [
    {
     "data": {
      "text/plain": [
       "user_id             0\n",
       "movie_id            0\n",
       "rating              0\n",
       "rating_timestamp    0\n",
       "dtype: int64"
      ]
     },
     "execution_count": 15,
     "metadata": {},
     "output_type": "execute_result"
    }
   ],
   "source": [
    "ratings.isnull().sum()\n"
   ]
  },
  {
   "cell_type": "code",
   "execution_count": 17,
   "id": "35ce33b7",
   "metadata": {},
   "outputs": [
    {
     "data": {
      "text/plain": [
       "user_id       0\n",
       "twitter_id    0\n",
       "dtype: int64"
      ]
     },
     "execution_count": 17,
     "metadata": {},
     "output_type": "execute_result"
    }
   ],
   "source": [
    "users.isnull().sum()"
   ]
  },
  {
   "cell_type": "code",
   "execution_count": 19,
   "id": "1548cef7",
   "metadata": {},
   "outputs": [],
   "source": [
    "movie_ratings = (ratings.set_index('movie_id')\n",
    "                .join(movies.set_index('movie_id'),how='left')\n",
    "                )"
   ]
  },
  {
   "cell_type": "code",
   "execution_count": 20,
   "id": "d09989c1",
   "metadata": {},
   "outputs": [
    {
     "data": {
      "text/html": [
       "<div>\n",
       "<style scoped>\n",
       "    .dataframe tbody tr th:only-of-type {\n",
       "        vertical-align: middle;\n",
       "    }\n",
       "\n",
       "    .dataframe tbody tr th {\n",
       "        vertical-align: top;\n",
       "    }\n",
       "\n",
       "    .dataframe thead th {\n",
       "        text-align: right;\n",
       "    }\n",
       "</style>\n",
       "<table border=\"1\" class=\"dataframe\">\n",
       "  <thead>\n",
       "    <tr style=\"text-align: right;\">\n",
       "      <th></th>\n",
       "      <th>user_id</th>\n",
       "      <th>rating</th>\n",
       "      <th>rating_timestamp</th>\n",
       "      <th>movie_title</th>\n",
       "      <th>genre</th>\n",
       "    </tr>\n",
       "    <tr>\n",
       "      <th>movie_id</th>\n",
       "      <th></th>\n",
       "      <th></th>\n",
       "      <th></th>\n",
       "      <th></th>\n",
       "      <th></th>\n",
       "    </tr>\n",
       "  </thead>\n",
       "  <tbody>\n",
       "    <tr>\n",
       "      <th>8</th>\n",
       "      <td>43471</td>\n",
       "      <td>5</td>\n",
       "      <td>1396981211</td>\n",
       "      <td>Edison Kinetoscopic Record of a Sneeze (1894)</td>\n",
       "      <td>Documentary|Short</td>\n",
       "    </tr>\n",
       "    <tr>\n",
       "      <th>10</th>\n",
       "      <td>71498</td>\n",
       "      <td>10</td>\n",
       "      <td>1412878553</td>\n",
       "      <td>La sortie des usines Lumière (1895)</td>\n",
       "      <td>Documentary|Short</td>\n",
       "    </tr>\n",
       "    <tr>\n",
       "      <th>12</th>\n",
       "      <td>70439</td>\n",
       "      <td>10</td>\n",
       "      <td>1439248579</td>\n",
       "      <td>The Arrival of a Train (1896)</td>\n",
       "      <td>Documentary|Short</td>\n",
       "    </tr>\n",
       "    <tr>\n",
       "      <th>25</th>\n",
       "      <td>38130</td>\n",
       "      <td>8</td>\n",
       "      <td>1488189899</td>\n",
       "      <td>The Oxford and Cambridge University Boat Race ...</td>\n",
       "      <td>NaN</td>\n",
       "    </tr>\n",
       "    <tr>\n",
       "      <th>91</th>\n",
       "      <td>5887</td>\n",
       "      <td>6</td>\n",
       "      <td>1385233195</td>\n",
       "      <td>Le manoir du diable (1896)</td>\n",
       "      <td>Short|Horror</td>\n",
       "    </tr>\n",
       "    <tr>\n",
       "      <th>...</th>\n",
       "      <td>...</td>\n",
       "      <td>...</td>\n",
       "      <td>...</td>\n",
       "      <td>...</td>\n",
       "      <td>...</td>\n",
       "    </tr>\n",
       "    <tr>\n",
       "      <th>15711402</th>\n",
       "      <td>50282</td>\n",
       "      <td>6</td>\n",
       "      <td>1636666858</td>\n",
       "      <td>Les rois de l&amp;x27;arnaque (2021)</td>\n",
       "      <td>Crime|Documentary</td>\n",
       "    </tr>\n",
       "    <tr>\n",
       "      <th>15831978</th>\n",
       "      <td>5608</td>\n",
       "      <td>7</td>\n",
       "      <td>1637518300</td>\n",
       "      <td>Cash (2021)</td>\n",
       "      <td>NaN</td>\n",
       "    </tr>\n",
       "    <tr>\n",
       "      <th>15839820</th>\n",
       "      <td>45682</td>\n",
       "      <td>7</td>\n",
       "      <td>1636791431</td>\n",
       "      <td>Sompoy (2021)</td>\n",
       "      <td>Comedy|Romance</td>\n",
       "    </tr>\n",
       "    <tr>\n",
       "      <th>15842076</th>\n",
       "      <td>279</td>\n",
       "      <td>10</td>\n",
       "      <td>1636303358</td>\n",
       "      <td>The Making of &amp;x27;Rocky vs. Drago&amp;x27; (2021)</td>\n",
       "      <td>Documentary</td>\n",
       "    </tr>\n",
       "    <tr>\n",
       "      <th>16058736</th>\n",
       "      <td>279</td>\n",
       "      <td>10</td>\n",
       "      <td>1637095151</td>\n",
       "      <td>Rocky IV: Rocky vs Drago - The Ultimate Direct...</td>\n",
       "      <td>NaN</td>\n",
       "    </tr>\n",
       "  </tbody>\n",
       "</table>\n",
       "<p>923235 rows × 5 columns</p>\n",
       "</div>"
      ],
      "text/plain": [
       "          user_id  rating  rating_timestamp  \\\n",
       "movie_id                                      \n",
       "8           43471       5        1396981211   \n",
       "10          71498      10        1412878553   \n",
       "12          70439      10        1439248579   \n",
       "25          38130       8        1488189899   \n",
       "91           5887       6        1385233195   \n",
       "...           ...     ...               ...   \n",
       "15711402    50282       6        1636666858   \n",
       "15831978     5608       7        1637518300   \n",
       "15839820    45682       7        1636791431   \n",
       "15842076      279      10        1636303358   \n",
       "16058736      279      10        1637095151   \n",
       "\n",
       "                                                movie_title              genre  \n",
       "movie_id                                                                        \n",
       "8             Edison Kinetoscopic Record of a Sneeze (1894)  Documentary|Short  \n",
       "10                      La sortie des usines Lumière (1895)  Documentary|Short  \n",
       "12                            The Arrival of a Train (1896)  Documentary|Short  \n",
       "25        The Oxford and Cambridge University Boat Race ...                NaN  \n",
       "91                               Le manoir du diable (1896)       Short|Horror  \n",
       "...                                                     ...                ...  \n",
       "15711402                   Les rois de l&x27;arnaque (2021)  Crime|Documentary  \n",
       "15831978                                        Cash (2021)                NaN  \n",
       "15839820                                      Sompoy (2021)     Comedy|Romance  \n",
       "15842076     The Making of &x27;Rocky vs. Drago&x27; (2021)        Documentary  \n",
       "16058736  Rocky IV: Rocky vs Drago - The Ultimate Direct...                NaN  \n",
       "\n",
       "[923235 rows x 5 columns]"
      ]
     },
     "execution_count": 20,
     "metadata": {},
     "output_type": "execute_result"
    }
   ],
   "source": [
    "movie_ratings"
   ]
  },
  {
   "cell_type": "code",
   "execution_count": null,
   "id": "f92e449a",
   "metadata": {},
   "outputs": [],
   "source": []
  }
 ],
 "metadata": {
  "kernelspec": {
   "display_name": "Python 3 (ipykernel)",
   "language": "python",
   "name": "python3"
  },
  "language_info": {
   "codemirror_mode": {
    "name": "ipython",
    "version": 3
   },
   "file_extension": ".py",
   "mimetype": "text/x-python",
   "name": "python",
   "nbconvert_exporter": "python",
   "pygments_lexer": "ipython3",
   "version": "3.9.13"
  }
 },
 "nbformat": 4,
 "nbformat_minor": 5
}
