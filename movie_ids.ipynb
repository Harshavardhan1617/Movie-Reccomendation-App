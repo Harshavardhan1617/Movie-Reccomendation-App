{
 "cells": [
  {
   "cell_type": "code",
   "execution_count": 3,
   "id": "46f67a10",
   "metadata": {},
   "outputs": [
    {
     "data": {
      "text/plain": [
       "9562180"
      ]
     },
     "execution_count": 3,
     "metadata": {},
     "output_type": "execute_result"
    }
   ],
   "source": [
    "import pandas as pd\n",
    "from sqlalchemy import create_engine\n",
    "\n",
    "# Read the TSV file into a DataFrame\n",
    "df = pd.read_csv('new_data/data-basic.tsv', delimiter='\\t', low_memory=False)\n",
    "df\n",
    "# Connect to the SQLite database\n",
    "engine = create_engine('sqlite:///new_data/movies.sqlite')\n",
    "\n",
    "# Write the DataFrame to the SQLite database\n",
    "df.to_sql('repo', engine, if_exists='replace', index=False)\n"
   ]
  }
 ],
 "metadata": {
  "kernelspec": {
   "display_name": "Python 3 (ipykernel)",
   "language": "python",
   "name": "python3"
  },
  "language_info": {
   "codemirror_mode": {
    "name": "ipython",
    "version": 3
   },
   "file_extension": ".py",
   "mimetype": "text/x-python",
   "name": "python",
   "nbconvert_exporter": "python",
   "pygments_lexer": "ipython3",
   "version": "3.9.13"
  }
 },
 "nbformat": 4,
 "nbformat_minor": 5
}
