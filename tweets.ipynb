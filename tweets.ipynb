{
 "cells": [
  {
   "cell_type": "code",
   "execution_count": 1,
   "id": "5dbf8dcc",
   "metadata": {},
   "outputs": [],
   "source": [
    "import twint\n",
    "import csv\n",
    "\n"
   ]
  },
  {
   "cell_type": "code",
   "execution_count": 3,
   "id": "f2eb3a2f",
   "metadata": {},
   "outputs": [],
   "source": [
    "import nest_asyncio\n",
    "nest_asyncio.apply()"
   ]
  },
  {
   "cell_type": "code",
   "execution_count": 4,
   "id": "bcc3e884",
   "metadata": {},
   "outputs": [
    {
     "name": "stdout",
     "output_type": "stream",
     "text": [
      "1612090517986185217 2023-01-08 19:45:05 +0530 <RumzHere> I rated Solos (2021–2021) 6/10 #IMDb It’s quite difficult to rate a series where the actors are exceptional, but the stories leave you disturbed and a bit frazzled.   https://t.co/JQ3vs9YPy5\n",
      "1609989443141926917 2023-01-03 00:36:10 +0530 <237_TheOverlook> I just #Rewatched #GoodnightMommy (2022). I don't care what anyone says (haters gonna hate) but I rate this remake pretty high (6.5/10), which is higher than #IMDb rating. Its such a good movie with one hell of a twist (as you'll know if you've seen the original)  https://t.co/SGZCDQ31ms\n",
      "1609600284254261248 2023-01-01 22:49:47 +0530 <TheOttoDude> Now watching the final movie 🎥 War for the Planet of the Apes (2017) I rate it 8/10  #IMDb  https://t.co/AiPgdriVWK\n",
      "1609535025191571457 2023-01-01 18:30:28 +0530 <TheOttoDude> Now watching the second movie 🎥 in the trilogy Dawn of the Planet of the Apes (2014) I rate it 9/10  #IMDb  https://t.co/LOWYRHiVen\n",
      "1609509722746662913 2023-01-01 16:49:55 +0530 <TheOttoDude> My first movie 🎥 of 2023 is Rise of the Planet of the Apes (2011) I rate it 9/10  #IMDb   https://t.co/VjQ7tT0r5p\n",
      "1608898806887714816 2022-12-31 00:22:22 +0530 <TheOttoDude> Watching the last episode ⁉️Thanks for 12 years of great drama, it was a rollercoaster of emotions 🙃The Walking Dead (2010–2022) 🧟‍♂️🧟‍♀️🧟‍♂️ I rate it 9/10 on  #IMDb  https://t.co/XIRfAhI8C9\n",
      "1603763149928337408 2022-12-16 20:15:06 +0530 <TheOttoDude> Watching the Hogfather (2006) by Terry Pratchett #Discworld 🌏🐢🐘 #Christmas 🎄#Hogswatch 🐖I rate it  8/10  #IMDb  https://t.co/XoWRlIFXB0\n",
      "1599437471514857472 2022-12-04 21:46:23 +0530 <TheOttoDude> #christmas2022 🎄watching A Christmas Carol (2019–2019) 🎥I rate it 8/10  #IMDb #xmas 🎅🏻🤶🏼  https://t.co/MkaMzeUuL6\n",
      "1599036847665123330 2022-12-03 19:14:27 +0530 <TheOttoDude> Now watching Home Alone (1990) I rate it 10/10  #IMDb #christmas2022 🎄🥳🎥  https://t.co/tnREZBGpV1\n",
      "1599022736717873152 2022-12-03 18:18:23 +0530 <TheOttoDude> Our Christmas 🎄 traditional viewing of  Scrooge (1951) ⁦@TheMargieRhoden and I both rate it ⁩ 10/10  #IMDb #Christmas2022   https://t.co/iGGZ8humJH\n",
      "1596828982271692806 2022-11-27 17:01:11 +0530 <TheOttoDude> Nothing like the 📚 books, but hey it’s a good escape from reality movie 🎥 watching The Lord of the Rings: The Fellowship of the Ring (2001) I rate it 7/10  #IMDb  https://t.co/7hIrPCqh91\n",
      "1591099696403034112 2022-11-11 21:35:03 +0530 <TheOttoDude> After watching  The Best Exotic Marigold 🏨 #live ⁦@The_Lowry⁩  last night now it’s time for  The Second Best Exotic Marigold Hotel (2015) on DVD 📀 I rate it 8/10  #IMDb  https://t.co/2eAG89dUXO\n",
      "1588587644170031105 2022-11-04 23:13:03 +0530 <Pittfan_76> I rated Moment of Contact (2022) 10/10 #IMDb #ufotwitter I can’t figure out how to rate this on iTunes. If anyone knows how to please let me know. 🙏🏾  https://t.co/pBrMnQMEZP\n",
      "1586300339380051968 2022-10-29 15:44:07 +0530 <dyanna2909> I rated 20th Century Girl (2022) 5/10 #IMDb It’s a nice movie. Coming of age, first loves, friendships. Macam cerita Ada Apa Dengan Cinta sikit. Mungkin orang muda akan rate tinggi lagi.  https://t.co/mV8gZ8sCML\n",
      "1585997594232340482 2022-10-28 19:41:07 +0530 <welhof> I rated Hush (2016) 7/10 #IMDb  https://t.co/VYrhqUiNxd ‘not bad. It was short and got my heart rate up a couple times. It must have been cheap to film because it took place in just one spot. The villain was creepy. A lot of weapons were conveniently on the floor when needed.’\n",
      "1580604408194535425 2022-10-13 22:30:31 +0530 <amarm93> I think ' a Time to killI' movie  is worth watching, I rate it 8.5/10 #IMDb  https://t.co/rZkNuFOtIf\n",
      "1564681383414362113 2022-08-30 23:58:06 +0530 <xAK94> Wasted 2hrs of my lifetime, If there’s 0 rating i would rate it 0 &amp; it really took a lot from it’s name a big fat “NOPE”. I rated Nope (2022) 1/10 #IMDb #Nope #NopeMovie   https://t.co/9Izg90xy8k\n",
      "1561908735022628864 2022-08-23 08:20:35 +0530 <notmaccoyle> I'm going to sleep now, but I want to say something first... RATE 10 STAR PAPERGIRLS ON IMDB. now yes, good night. #PaperGirls #papergirlstv #IMDb @IMDb\n",
      "1561808471095402497 2022-08-23 01:42:11 +0530 <fortsalemcoven> I rated Motherland: Fort Salem: But I Don't Even Have a Dress... (S3.E9) 10/10 #IMDb the recent episode has low ratings #Switches help ! Click the link to rate the episode #MotherlandFortSalem #SaveMotherlandFortSalem   https://t.co/G8xcxwjFiQ\n",
      "1560446345214734336 2022-08-19 07:29:35 +0530 <Michael_Psalm51> I rated Surface (2022– ) 3/10 #IMDb - I did not like the story. Too slow. I hung around to episode 6 and I like it. A 3 because it’d too slow. Episode 6 I would rate a 6/10.   https://t.co/L8IAJG54aX\n",
      "[!] No more data! Scraping will stop now.\n",
      "found 0 deleted tweets in this search.\n"
     ]
    }
   ],
   "source": [
    "c = twint.Config()\n",
    "c.Search = \"i rate* /10 #IMDb\"\n",
    "c.since = \"2021-11-24 05:41:29\"\n",
    "c.Limit = 100\n",
    "c.Store_csv = True\n",
    "c.Output = \"tweets.csv\"\n",
    "twint.run.Search(c)"
   ]
  }
 ],
 "metadata": {
  "kernelspec": {
   "display_name": "Python 3 (ipykernel)",
   "language": "python",
   "name": "python3"
  },
  "language_info": {
   "codemirror_mode": {
    "name": "ipython",
    "version": 3
   },
   "file_extension": ".py",
   "mimetype": "text/x-python",
   "name": "python",
   "nbconvert_exporter": "python",
   "pygments_lexer": "ipython3",
   "version": "3.9.13"
  }
 },
 "nbformat": 4,
 "nbformat_minor": 5
}
